{
 "cells": [
  {
   "cell_type": "code",
   "execution_count": 49,
   "metadata": {},
   "outputs": [],
   "source": [
    "import random\n",
    "import itertools\n",
    "\n",
    "import requests\n",
    "import tensorflow as tf\n",
    "import numpy as np\n",
    "from matplotlib import pyplot as plt"
   ]
  },
  {
   "cell_type": "code",
   "execution_count": 50,
   "metadata": {},
   "outputs": [],
   "source": [
    "# load dataset\n",
    "mnist = tf.keras.datasets.mnist\n",
    "(x_train, y_train), (x_test, y_test) = mnist.load_data()"
   ]
  },
  {
   "cell_type": "code",
   "execution_count": 51,
   "metadata": {},
   "outputs": [
    {
     "name": "stdout",
     "output_type": "stream",
     "text": [
      "7\n"
     ]
    }
   ],
   "source": [
    "# get sample from test data\n",
    "r = random.randrange(len(x_test))\n",
    "sample = x_test[r]\n",
    "print(y_test[r])"
   ]
  },
  {
   "cell_type": "code",
   "execution_count": 52,
   "metadata": {},
   "outputs": [
    {
     "data": {
      "image/png": "[encoded data removed]",
      "text/plain": [
       "<Figure size 432x288 with 1 Axes>"
      ]
     },
     "metadata": {
      "needs_background": "light"
     },
     "output_type": "display_data"
    }
   ],
   "source": [
    "# show sample\n",
    "two_d = (np.reshape(sample, (28, 28)) * 255).astype(np.uint8)\n",
    "plt.imshow(two_d, cmap=plt.cm.gray_r, interpolation='nearest')\n",
    "plt.show()"
   ]
  },
  {
   "cell_type": "code",
   "execution_count": 53,
   "metadata": {},
   "outputs": [],
   "source": [
    "# prepare payload\n",
    "data = sample.reshape((784))\n",
    "payload = {\"data\": {\n",
    "    \"names\": [\"a\", \"b\"],\n",
    "    \"tensor\": {\n",
    "        \"shape\": [1, 784],\n",
    "        \"values\": data.tolist()\n",
    "    }}}"
   ]
  },
  {
   "cell_type": "code",
   "execution_count": 54,
   "metadata": {},
   "outputs": [],
   "source": [
    "endpoint = !kubectl get svc --namespace default ambassador -o jsonpath='{.status.loadBalancer.ingress[0].hostname}'"
   ]
  },
  {
   "cell_type": "code",
   "execution_count": 55,
   "metadata": {},
   "outputs": [],
   "source": [
    "# make request\n",
    "uri = f'https://{endpoint[0]}/seldon/seldon/tfserving/api/v1.0/predictions'\n",
    "response = requests.post(uri, json=payload, verify=False)"
   ]
  },
  {
   "cell_type": "code",
   "execution_count": 56,
   "metadata": {},
   "outputs": [
    {
     "name": "stdout",
     "output_type": "stream",
     "text": [
      "Status code: 200\n",
      "Response: {\"data\":{\"names\":[\"t:0\",\"t:1\",\"t:2\",\"t:3\",\"t:4\",\"t:5\",\"t:6\",\"t:7\",\"t:8\",\"t:9\"],\"tensor\":{\"shape\":[1,10],\"values\":[0.0,0.0,0.0,0.0,0.0,0.0,0.0,1.0,0.0,0.0]}},\"meta\":{\"requestPath\":{\"mnist-model\":\"seldonio/tfserving-proxy:1.7.0\"}}}\n",
      "\n",
      "Predicted class: ['t:7']\n"
     ]
    }
   ],
   "source": [
    "# show response\n",
    "print('Status code:', response.status_code)\n",
    "print('Response:', response.text)\n",
    "\n",
    "json = response.json()\n",
    "names = json['data']['names']\n",
    "values = json['data']['tensor']['values']\n",
    "predicted_class = list(itertools.compress(names, values))\n",
    "\n",
    "print('Predicted class:', predicted_class)"
   ]
  }
 ],
 "metadata": {
  "kernelspec": {
   "display_name": "Python 3",
   "language": "python",
   "name": "python3"
  },
  "language_info": {
   "codemirror_mode": {
    "name": "ipython",
    "version": 3
   },
   "file_extension": ".py",
   "mimetype": "text/x-python",
   "name": "python",
   "nbconvert_exporter": "python",
   "pygments_lexer": "ipython3",
   "version": "3.6.12"
  }
 },
 "nbformat": 4,
 "nbformat_minor": 1
}
